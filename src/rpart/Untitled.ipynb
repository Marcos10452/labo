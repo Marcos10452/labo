{
 "cells": [
  {
   "cell_type": "code",
   "execution_count": null,
   "metadata": {},
   "outputs": [],
   "source": [
    "# import code for encoding urls and generating md5 hashes\n",
    "import urllib, hashlib"
   ]
  },
  {
   "cell_type": "code",
   "execution_count": null,
   "metadata": {},
   "outputs": [],
   "source": [
    "# Set your variables here\n",
    "email = \"someone@somewhere.com\"\n",
    "default = \"https://www.example.com/default.jpg\"\n",
    "size = 40"
   ]
  },
  {
   "cell_type": "code",
   "execution_count": null,
   "metadata": {},
   "outputs": [],
   "source": [
    "# construct the url\n",
    "gravatar_url = \"https://www.gravatar.com/avatar/\" + hashlib.md5(email.lower()).hexdigest() + \"?\"\n",
    "gravatar_url += urllib.urlencode({'d':default, 's':str(size)})"
   ]
  }
 ],
 "metadata": {
  "kernelspec": {
   "display_name": "Python 3",
   "language": "python",
   "name": "python3"
  },
  "language_info": {
   "codemirror_mode": {
    "name": "ipython",
    "version": 3
   },
   "file_extension": ".py",
   "mimetype": "text/x-python",
   "name": "python",
   "nbconvert_exporter": "python",
   "pygments_lexer": "ipython3",
   "version": "3.7.6"
  }
 },
 "nbformat": 4,
 "nbformat_minor": 4
}
