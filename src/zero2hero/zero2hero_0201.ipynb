{
 "cells": [
  {
   "cell_type": "markdown",
   "metadata": {},
   "source": [
    "# Zero to Hero"
   ]
  },
  {
   "cell_type": "markdown",
   "metadata": {},
   "source": [
    "## 2.01 Optimizacion Bayesiana"
   ]
  },
  {
   "cell_type": "code",
   "execution_count": null,
   "metadata": {
    "vscode": {
     "languageId": "r"
    }
   },
   "outputs": [],
   "source": [
    "El objetivo es mostrar como funciona la Optimizacion Bayesiana en el caso mas simple : una funcion univariada"
   ]
  },
  {
   "cell_type": "markdown",
   "metadata": {},
   "source": [
    "### Advertencia"
   ]
  },
  {
   "cell_type": "markdown",
   "metadata": {},
   "source": [
    "El uso del método de Optimización Bayesiana para la optimización de hiperparámetros en modelos predictivos tiene menos de una década.\n",
    "Entender los fundamentos de la O.B. requieren de una sólida formación matemática y **no** son el objetivo de esta asignatura.\n",
    "Para quienes deseen aventurarse a los detalles técnicos:\n",
    "* El paper original de la libreria mlrMBO (año 2018 )   https://arxiv.org/pdf/1703.03373.pdf\n",
    "* El método de Kriging , tal cual se deriva del uso original, en este pequeño libro de 106 páginas \"Basic Steps in Geostatistics: The Variogram and Kriging\" https://www.pdfdrive.com/basic-steps-in-geostatistics-the-variogram-and-kriging-e187336318.html"
   ]
  },
  {
   "cell_type": "markdown",
   "metadata": {},
   "source": [
    "### El código"
   ]
  },
  {
   "cell_type": "code",
   "execution_count": 8,
   "metadata": {
    "vscode": {
     "languageId": "r"
    }
   },
   "outputs": [
    {
     "data": {
      "text/html": [
       "<table class=\"dataframe\">\n",
       "<caption>A matrix: 2 × 6 of type dbl</caption>\n",
       "<thead>\n",
       "\t<tr><th></th><th scope=col>used</th><th scope=col>(Mb)</th><th scope=col>gc trigger</th><th scope=col>(Mb)</th><th scope=col>max used</th><th scope=col>(Mb)</th></tr>\n",
       "</thead>\n",
       "<tbody>\n",
       "\t<tr><th scope=row>Ncells</th><td> 667968</td><td>35.7</td><td>1329767</td><td>71.1</td><td>1329767</td><td>71.1</td></tr>\n",
       "\t<tr><th scope=row>Vcells</th><td>1320005</td><td>10.1</td><td>8388608</td><td>64.0</td><td>6891583</td><td>52.6</td></tr>\n",
       "</tbody>\n",
       "</table>\n"
      ],
      "text/latex": [
       "A matrix: 2 × 6 of type dbl\n",
       "\\begin{tabular}{r|llllll}\n",
       "  & used & (Mb) & gc trigger & (Mb) & max used & (Mb)\\\\\n",
       "\\hline\n",
       "\tNcells &  667968 & 35.7 & 1329767 & 71.1 & 1329767 & 71.1\\\\\n",
       "\tVcells & 1320005 & 10.1 & 8388608 & 64.0 & 6891583 & 52.6\\\\\n",
       "\\end{tabular}\n"
      ],
      "text/markdown": [
       "\n",
       "A matrix: 2 × 6 of type dbl\n",
       "\n",
       "| <!--/--> | used | (Mb) | gc trigger | (Mb) | max used | (Mb) |\n",
       "|---|---|---|---|---|---|---|\n",
       "| Ncells |  667968 | 35.7 | 1329767 | 71.1 | 1329767 | 71.1 |\n",
       "| Vcells | 1320005 | 10.1 | 8388608 | 64.0 | 6891583 | 52.6 |\n",
       "\n"
      ],
      "text/plain": [
       "       used    (Mb) gc trigger (Mb) max used (Mb)\n",
       "Ncells  667968 35.7 1329767    71.1 1329767  71.1\n",
       "Vcells 1320005 10.1 8388608    64.0 6891583  52.6"
      ]
     },
     "metadata": {},
     "output_type": "display_data"
    },
    {
     "name": "stderr",
     "output_type": "stream",
     "text": [
      "Loading required package: DiceKriging\n",
      "\n",
      "Warning message in library(package, lib.loc = lib.loc, character.only = TRUE, logical.return = TRUE, :\n",
      "“there is no package called ‘DiceKriging’”\n",
      "Loading required package: mlrMBO\n",
      "\n",
      "Loading required package: mlr\n",
      "\n",
      "Loading required package: ParamHelpers\n",
      "\n",
      "Warning message: 'mlr' is in 'maintenance-only' mode since July 2019.\n",
      "Future development will only happen in 'mlr3'\n",
      "(<https://mlr3.mlr-org.com>). Due to the focus on 'mlr3' there might be\n",
      "uncaught bugs meanwhile in {mlr} - please consider switching.\n",
      "\n",
      "Loading required package: smoof\n",
      "\n",
      "Loading required package: checkmate\n",
      "\n"
     ]
    }
   ],
   "source": [
    "#Ejemplo de optimizacion bayesiana, univariada\n",
    "\n",
    "#limpio la memoria\n",
    "rm( list=ls() )  #remove all objects\n",
    "gc()             #garbage collection\n",
    "\n",
    "require(\"data.table\")\n",
    "#paquetes necesarios para la Bayesian Optimization\n",
    "require(\"DiceKriging\")\n",
    "require(\"mlrMBO\")\n",
    "\n",
    "options(repr.plot.width=20, repr.plot.height=10)\n"
   ]
  },
  {
   "cell_type": "code",
   "execution_count": 13,
   "metadata": {
    "vscode": {
     "languageId": "r"
    }
   },
   "outputs": [
    {
     "name": "stderr",
     "output_type": "stream",
     "text": [
      "Installing package into ‘/home/marcos/R/x86_64-pc-linux-gnu-library/4.2’\n",
      "(as ‘lib’ is unspecified)\n",
      "\n"
     ]
    }
   ],
   "source": [
    "install.packages(\"DiceKriging\")"
   ]
  },
  {
   "cell_type": "code",
   "execution_count": null,
   "metadata": {
    "vscode": {
     "languageId": "r"
    }
   },
   "outputs": [],
   "source": []
  },
  {
   "cell_type": "markdown",
   "metadata": {},
   "source": [
    "### Defino la funcion a optimizar, un polinomio de grado 4"
   ]
  },
  {
   "cell_type": "code",
   "execution_count": 9,
   "metadata": {
    "vscode": {
     "languageId": "r"
    }
   },
   "outputs": [],
   "source": [
    "func_univariada01  <- function( x )\n",
    "{\n",
    "  y  <- -2 * (x+13) * (x-3) * (x-7) * (x-19)\n",
    "\n",
    "  return( y )\n",
    "}"
   ]
  },
  {
   "cell_type": "markdown",
   "metadata": {},
   "source": [
    "Grafico la funcion"
   ]
  },
  {
   "cell_type": "code",
   "execution_count": 14,
   "metadata": {
    "vscode": {
     "languageId": "r"
    }
   },
   "outputs": [
    {
     "data": {
      "image/png": "[encoded data removed]",
      "text/plain": [
       "plot without title"
      ]
     },
     "metadata": {
      "image/png": {
       "height": 600,
       "width": 1200
      }
     },
     "output_type": "display_data"
    }
   ],
   "source": [
    "intervalo  <- seq(-15,21,0.1)\n",
    "plot(intervalo, func_univariada01(intervalo))"
   ]
  },
  {
   "cell_type": "markdown",
   "metadata": {},
   "source": [
    "La funcion tiene dos máximos, uno de ellos es el global."
   ]
  },
  {
   "cell_type": "markdown",
   "metadata": {},
   "source": [
    "### Optimizacion Bayesiana"
   ]
  },
  {
   "cell_type": "markdown",
   "metadata": {},
   "source": [
    "¿Qué tan rápido encontrará la Optmización Bayesiana el máximo global?"
   ]
  },
  {
   "cell_type": "markdown",
   "metadata": {},
   "source": [
    "Defino las caracteristicas de la optimizacion"
   ]
  },
  {
   "cell_type": "markdown",
   "metadata": {},
   "source": [
    "* **fn**    es el nombre de la funcion\n",
    "* **minimize**   por defecto es TRUE,  pero en este caso le asigno FALSE, ya que deseo maximizar  el valor\n",
    "* **par.set**  indica cuales son los hiperparmetros de la funcion, en este caso hay una sola variable que llamé  x\n",
    "---\n",
    "* **makeNumericParam** indica que ese hiperparámetro es un numero real, una variable continua  ( no es ni un entero ni una categoria )"
   ]
  },
  {
   "cell_type": "code",
   "execution_count": 15,
   "metadata": {
    "vscode": {
     "languageId": "r"
    }
   },
   "outputs": [],
   "source": [
    "obj.fun  <- makeSingleObjectiveFunction(\n",
    "              fn=       func_univariada01,\n",
    "              minimize= FALSE,   #estoy Maximizando la ganancia\n",
    "              par.set=  makeParamSet(  makeNumericParam( \"x\", lower= -100, upper=  100) ),\n",
    "             )"
   ]
  },
  {
   "cell_type": "markdown",
   "metadata": {},
   "source": [
    "ahora defino la funcion proxy, la que se construye internamente intentando emular la realidad"
   ]
  },
  {
   "cell_type": "markdown",
   "metadata": {},
   "source": [
    "* **cl**  es la clase de learner,  \"reg.km\" indica el método de kriging \"**reg**ression **k**riging **m**ethodd\"\n",
    "* **predict.type**  es el tipo de prediccion que deseo me devuelva, \"se\" significa que espero dos valores  media y standard error\n",
    "* **covtype**    es la funcion de covarianza que se va a utilizar, cual es la covarianza de dos mediciones como fucion de la distancia entre los puntos donde fueron tomadas las mediciones, fue inventada por Bertil Matérn "
   ]
  },
  {
   "cell_type": "markdown",
   "metadata": {},
   "source": [
    "El método de kriging puede verse en su forma original (la geología) , esta presentación https://www.youtube.com/watch?v=ZB7GvJrNKq0"
   ]
  },
  {
   "cell_type": "code",
   "execution_count": 16,
   "metadata": {
    "vscode": {
     "languageId": "r"
    }
   },
   "outputs": [],
   "source": [
    "fproxy  <- makeLearner( cl= \"regr.km\",\n",
    "                        predict.type= \"se\", \n",
    "                        covtype= \"matern3_2\" )"
   ]
  },
  {
   "cell_type": "markdown",
   "metadata": {},
   "source": [
    "ultima definicion,  especificar la optimizacion bayesiana\n",
    "*  **crit**   indica el criterio con el que se completan los valores iniciales \"no inteligentes\"\n",
    "*  **iters**  indica la cantidad de iteraciones inteligentes que hará la Optimizacion Bayesiana, las que son adicionales a las primeras cuatro de este caso.*  **iters**  indica la cantidad de iteraciones inteligentes que hará la Optimizacion Bayesiana, las que son adicionales a las primeras cuatro de este caso."
   ]
  },
  {
   "cell_type": "code",
   "execution_count": 17,
   "metadata": {
    "vscode": {
     "languageId": "r"
    }
   },
   "outputs": [],
   "source": [
    "ctrl  <- makeMBOControl()\n",
    "ctrl  <- setMBOControlInfill( ctrl, crit= makeMBOInfillCritEI())\n",
    "ctrl  <- setMBOControlTermination( ctrl, iters= 25 )"
   ]
  },
  {
   "cell_type": "markdown",
   "metadata": {},
   "source": [
    "finalmente , lanzo la Optimizacion Bayesiana"
   ]
  },
  {
   "cell_type": "markdown",
   "metadata": {},
   "source": [
    "* **fun**  es la especificacion de la funcion que deseo optimizar, si maximizo o minimizo, cuales son las variables de la misma\n",
    "* **learner**  especifica cual es la función proxy interna que va a utilizar la Optimziación Bayesiana\n",
    "* **control**  indica la la forma en que se harán las iteraciones"
   ]
  },
  {
   "cell_type": "code",
   "execution_count": 18,
   "metadata": {
    "vscode": {
     "languageId": "r"
    }
   },
   "outputs": [
    {
     "name": "stderr",
     "output_type": "stream",
     "text": [
      "Computing y column(s) for design. Not provided.\n",
      "\n",
      "[mbo] 0: x=34.6 : y = -1.3e+06 : 0.0 secs : initdesign\n",
      "\n",
      "[mbo] 0: x=-54.5 : y = -2.15e+07 : 0.0 secs : initdesign\n",
      "\n",
      "[mbo] 0: x=-7.79 : y = 4.45e+04 : 0.0 secs : initdesign\n",
      "\n",
      "[mbo] 0: x=61.9 : y = -2.09e+07 : 0.0 secs : initdesign\n",
      "\n"
     ]
    },
    {
     "name": "stdout",
     "output_type": "stream",
     "text": [
      "\n",
      "optimisation start\n",
      "------------------\n",
      "* estimation method   : MLE \n",
      "* optimisation method : BFGS \n",
      "* analytical gradient : used\n",
      "* trend model : ~1\n",
      "* covariance model : \n",
      "  - type :  matern3_2 \n",
      "  - nugget : NO\n",
      "  - parameters lower bounds :  1e-10 \n",
      "  - parameters upper bounds :  232.8438 \n",
      "  - best initial criterion value(s) :  -70.26479 \n",
      "\n",
      "N = 1, M = 5 machine precision = 2.22045e-16\n",
      "At X0, 0 variables are exactly at the bounds\n",
      "At iterate     0  f=       70.265  |proj g|=   4.6364e-09\n",
      "At iterate     1  f =       70.265  |proj g|=    4.6364e-09\n",
      "\n",
      "iterations 1\n",
      "function evaluations 2\n",
      "segments explored during Cauchy searches 1\n",
      "BFGS updates skipped 0\n",
      "active bounds at final generalized Cauchy point 0\n",
      "norm of the final projected gradient 4.63642e-09\n",
      "final function value 70.2648\n",
      "\n",
      "F = 70.2648\n",
      "final  value 70.264790 \n",
      "converged\n"
     ]
    },
    {
     "name": "stderr",
     "output_type": "stream",
     "text": [
      "[mbo] 1: x=-6.57 : y = 4.27e+04 : 0.0 secs : infill_ei\n",
      "\n"
     ]
    },
    {
     "name": "stdout",
     "output_type": "stream",
     "text": [
      "\n",
      "optimisation start\n",
      "------------------\n",
      "* estimation method   : MLE \n",
      "* optimisation method : BFGS \n",
      "* analytical gradient : used\n",
      "* trend model : ~1\n",
      "* covariance model : \n",
      "  - type :  matern3_2 \n",
      "  - nugget : NO\n",
      "  - parameters lower bounds :  1e-10 \n",
      "  - parameters upper bounds :  232.8438 \n",
      "  - best initial criterion value(s) :  -85.33768 \n",
      "\n",
      "N = 1, M = 5 machine precision = 2.22045e-16\n",
      "At X0, 0 variables are exactly at the bounds\n",
      "At iterate     0  f=       85.338  |proj g|=    0.0023279\n",
      "At iterate     1  f =       85.338  |proj g|=      0.002323\n",
      "At iterate     2  f =       85.336  |proj g|=    0.00012051\n",
      "At iterate     3  f =       85.336  |proj g|=    6.6825e-06\n",
      "At iterate     4  f =       85.336  |proj g|=    2.0749e-08\n",
      "\n",
      "iterations 4\n",
      "function evaluations 5\n",
      "segments explored during Cauchy searches 4\n",
      "BFGS updates skipped 0\n",
      "active bounds at final generalized Cauchy point 0\n",
      "norm of the final projected gradient 2.0749e-08\n",
      "final function value 85.3363\n",
      "\n",
      "F = 85.3363\n",
      "final  value 85.336339 \n",
      "converged\n"
     ]
    },
    {
     "name": "stderr",
     "output_type": "stream",
     "text": [
      "[mbo] 2: x=17.7 : y = 1.26e+04 : 0.0 secs : infill_ei\n",
      "\n"
     ]
    },
    {
     "name": "stdout",
     "output_type": "stream",
     "text": [
      "\n",
      "optimisation start\n",
      "------------------\n",
      "* estimation method   : MLE \n",
      "* optimisation method : BFGS \n",
      "* analytical gradient : used\n",
      "* trend model : ~1\n",
      "* covariance model : \n",
      "  - type :  matern3_2 \n",
      "  - nugget : NO\n",
      "  - parameters lower bounds :  1e-10 \n",
      "  - parameters upper bounds :  232.8438 \n",
      "  - best initial criterion value(s) :  -101.755 \n",
      "\n",
      "N = 1, M = 5 machine precision = 2.22045e-16\n",
      "At X0, 0 variables are exactly at the bounds\n",
      "At iterate     0  f=       101.75  |proj g|=    0.0030581\n",
      "At iterate     1  f =       101.75  |proj g|=     0.0030554\n",
      "At iterate     2  f =       101.75  |proj g|=    0.00053158\n",
      "At iterate     3  f =       101.75  |proj g|=    7.3651e-05\n",
      "At iterate     4  f =       101.75  |proj g|=    1.5051e-06\n",
      "At iterate     5  f =       101.75  |proj g|=    4.3769e-09\n",
      "\n",
      "iterations 5\n",
      "function evaluations 6\n",
      "segments explored during Cauchy searches 5\n",
      "BFGS updates skipped 0\n",
      "active bounds at final generalized Cauchy point 0\n",
      "norm of the final projected gradient 4.37692e-09\n",
      "final function value 101.75\n",
      "\n",
      "F = 101.75\n",
      "final  value 101.750188 \n",
      "converged\n"
     ]
    },
    {
     "name": "stderr",
     "output_type": "stream",
     "text": [
      "[mbo] 3: x=25.7 : y = -2.22e+05 : 0.0 secs : infill_ei\n",
      "\n"
     ]
    },
    {
     "name": "stdout",
     "output_type": "stream",
     "text": [
      "\n",
      "optimisation start\n",
      "------------------\n",
      "* estimation method   : MLE \n",
      "* optimisation method : BFGS \n",
      "* analytical gradient : used\n",
      "* trend model : ~1\n",
      "* covariance model : \n",
      "  - type :  matern3_2 \n",
      "  - nugget : NO\n",
      "  - parameters lower bounds :  1e-10 \n",
      "  - parameters upper bounds :  232.8438 \n",
      "  - best initial criterion value(s) :  -116.9002 \n",
      "\n",
      "N = 1, M = 5 machine precision = 2.22045e-16\n",
      "At X0, 0 variables are exactly at the bounds\n",
      "At iterate     0  f=        116.9  |proj g|=     0.003456\n",
      "At iterate     1  f =        116.9  |proj g|=     0.0034548\n",
      "At iterate     2  f =       116.89  |proj g|=     0.0013913\n",
      "At iterate     3  f =       116.89  |proj g|=    0.00033544\n",
      "At iterate     4  f =       116.89  |proj g|=    2.5172e-05\n",
      "At iterate     5  f =       116.89  |proj g|=    5.0303e-07\n",
      "At iterate     6  f =       116.89  |proj g|=    7.3577e-10\n",
      "\n",
      "iterations 6\n",
      "function evaluations 7\n",
      "segments explored during Cauchy searches 6\n",
      "BFGS updates skipped 0\n",
      "active bounds at final generalized Cauchy point 0\n",
      "norm of the final projected gradient 7.35771e-10\n",
      "final function value 116.886\n",
      "\n",
      "F = 116.886\n",
      "final  value 116.885904 \n",
      "converged\n"
     ]
    },
    {
     "name": "stderr",
     "output_type": "stream",
     "text": [
      "[mbo] 4: x=6.41 : y = -988 : 0.0 secs : infill_ei\n",
      "\n"
     ]
    },
    {
     "name": "stdout",
     "output_type": "stream",
     "text": [
      "\n",
      "optimisation start\n",
      "------------------\n",
      "* estimation method   : MLE \n",
      "* optimisation method : BFGS \n",
      "* analytical gradient : used\n",
      "* trend model : ~1\n",
      "* covariance model : \n",
      "  - type :  matern3_2 \n",
      "  - nugget : NO\n",
      "  - parameters lower bounds :  1e-10 \n",
      "  - parameters upper bounds :  232.8438 \n",
      "  - best initial criterion value(s) :  -131.917 \n",
      "\n",
      "N = 1, M = 5 machine precision = 2.22045e-16\n",
      "At X0, 0 variables are exactly at the bounds\n",
      "At iterate     0  f=       131.92  |proj g|=   0.00086234\n",
      "At iterate     1  f =       131.92  |proj g|=    0.00086203\n",
      "At iterate     2  f =       131.92  |proj g|=    4.9792e-05\n",
      "At iterate     3  f =       131.92  |proj g|=    3.0876e-06\n",
      "At iterate     4  f =       131.92  |proj g|=    1.1979e-08\n",
      "\n",
      "iterations 4\n",
      "function evaluations 5\n",
      "segments explored during Cauchy searches 4\n",
      "BFGS updates skipped 0\n",
      "active bounds at final generalized Cauchy point 0\n",
      "norm of the final projected gradient 1.19792e-08\n",
      "final function value 131.916\n",
      "\n",
      "F = 131.916\n",
      "final  value 131.915893 \n",
      "converged\n"
     ]
    },
    {
     "name": "stderr",
     "output_type": "stream",
     "text": [
      "[mbo] 5: x=12.1 : y = 1.61e+04 : 0.0 secs : infill_ei\n",
      "\n"
     ]
    },
    {
     "name": "stdout",
     "output_type": "stream",
     "text": [
      "\n",
      "optimisation start\n",
      "------------------\n",
      "* estimation method   : MLE \n",
      "* optimisation method : BFGS \n",
      "* analytical gradient : used\n",
      "* trend model : ~1\n",
      "* covariance model : \n",
      "  - type :  matern3_2 \n",
      "  - nugget : NO\n",
      "  - parameters lower bounds :  1e-10 \n",
      "  - parameters upper bounds :  232.8438 \n",
      "  - best initial criterion value(s) :  -145.8314 \n",
      "\n",
      "N = 1, M = 5 machine precision = 2.22045e-16\n",
      "At X0, 0 variables are exactly at the bounds\n",
      "At iterate     0  f=       145.83  |proj g|=    0.0017671\n",
      "At iterate     1  f =       145.83  |proj g|=     0.0017666\n",
      "At iterate     2  f =       145.83  |proj g|=    0.00021488\n",
      "At iterate     3  f =       145.83  |proj g|=    3.0249e-05\n",
      "At iterate     4  f =       145.83  |proj g|=    6.2433e-07\n",
      "At iterate     5  f =       145.83  |proj g|=    1.8618e-09\n",
      "\n",
      "iterations 5\n",
      "function evaluations 6\n",
      "segments explored during Cauchy searches 5\n",
      "BFGS updates skipped 0\n",
      "active bounds at final generalized Cauchy point 0\n",
      "norm of the final projected gradient 1.86178e-09\n",
      "final function value 145.825\n",
      "\n",
      "F = 145.825\n",
      "final  value 145.825143 \n",
      "converged\n"
     ]
    },
    {
     "name": "stderr",
     "output_type": "stream",
     "text": [
      "[mbo] 6: x=0.103 : y = 9.9e+03 : 0.0 secs : infill_ei\n",
      "\n"
     ]
    },
    {
     "name": "stdout",
     "output_type": "stream",
     "text": [
      "\n",
      "optimisation start\n",
      "------------------\n",
      "* estimation method   : MLE \n",
      "* optimisation method : BFGS \n",
      "* analytical gradient : used\n",
      "* trend model : ~1\n",
      "* covariance model : \n",
      "  - type :  matern3_2 \n",
      "  - nugget : NO\n",
      "  - parameters lower bounds :  1e-10 \n",
      "  - parameters upper bounds :  232.8438 \n",
      "  - best initial criterion value(s) :  -159.6143 \n",
      "\n",
      "N = 1, M = 5 machine precision = 2.22045e-16\n",
      "At X0, 0 variables are exactly at the bounds\n",
      "At iterate     0  f=       159.61  |proj g|=   7.4091e-05\n",
      "At iterate     1  f =       159.61  |proj g|=    7.4081e-05\n",
      "\n",
      "iterations 1\n",
      "function evaluations 2\n",
      "segments explored during Cauchy searches 1\n",
      "BFGS updates skipped 0\n",
      "active bounds at final generalized Cauchy point 0\n",
      "norm of the final projected gradient 7.4081e-05\n",
      "final function value 159.614\n",
      "\n",
      "F = 159.614\n",
      "final  value 159.614330 \n",
      "converged\n"
     ]
    },
    {
     "name": "stderr",
     "output_type": "stream",
     "text": [
      "[mbo] 7: x=-14.4 : y = -3.46e+04 : 0.0 secs : infill_ei\n",
      "\n"
     ]
    },
    {
     "name": "stdout",
     "output_type": "stream",
     "text": [
      "\n",
      "optimisation start\n",
      "------------------\n",
      "* estimation method   : MLE \n",
      "* optimisation method : BFGS \n",
      "* analytical gradient : used\n",
      "* trend model : ~1\n",
      "* covariance model : \n",
      "  - type :  matern3_2 \n",
      "  - nugget : NO\n",
      "  - parameters lower bounds :  1e-10 \n",
      "  - parameters upper bounds :  232.8438 \n",
      "  - best initial criterion value(s) :  -174.5604 \n",
      "\n",
      "N = 1, M = 5 machine precision = 2.22045e-16\n",
      "At X0, 0 variables are exactly at the bounds\n",
      "At iterate     0  f=       174.56  |proj g|=   3.8806e-05\n",
      "At iterate     1  f =       174.56  |proj g|=    3.8802e-05\n",
      "\n",
      "iterations 1\n",
      "function evaluations 2\n",
      "segments explored during Cauchy searches 1\n",
      "BFGS updates skipped 0\n",
      "active bounds at final generalized Cauchy point 0\n",
      "norm of the final projected gradient 3.88018e-05\n",
      "final function value 174.56\n",
      "\n",
      "F = 174.56\n",
      "final  value 174.560444 \n",
      "converged\n"
     ]
    },
    {
     "name": "stderr",
     "output_type": "stream",
     "text": [
      "[mbo] 8: x=-11.4 : y = 2.58e+04 : 0.0 secs : infill_ei\n",
      "\n"
     ]
    },
    {
     "name": "stdout",
     "output_type": "stream",
     "text": [
      "\n",
      "optimisation start\n",
      "------------------\n",
      "* estimation method   : MLE \n",
      "* optimisation method : BFGS \n",
      "* analytical gradient : used\n",
      "* trend model : ~1\n",
      "* covariance model : \n",
      "  - type :  matern3_2 \n",
      "  - nugget : NO\n",
      "  - parameters lower bounds :  1e-10 \n",
      "  - parameters upper bounds :  232.8438 \n",
      "  - best initial criterion value(s) :  -187.4928 \n",
      "\n",
      "N = 1, M = 5 machine precision = 2.22045e-16\n",
      "At X0, 0 variables are exactly at the bounds\n",
      "At iterate     0  f=       187.49  |proj g|=    0.0017601\n",
      "At iterate     1  f =       187.49  |proj g|=       0.00176\n",
      "At iterate     2  f =       187.47  |proj g|=     0.0014554\n",
      "At iterate     3  f =       187.46  |proj g|=    0.00044414\n",
      "At iterate     4  f =       187.46  |proj g|=    8.4273e-05\n",
      "At iterate     5  f =       187.46  |proj g|=    6.4213e-06\n",
      "At iterate     6  f =       187.46  |proj g|=    8.4594e-08\n",
      "\n",
      "iterations 6\n",
      "function evaluations 7\n",
      "segments explored during Cauchy searches 6\n",
      "BFGS updates skipped 0\n",
      "active bounds at final generalized Cauchy point 0\n",
      "norm of the final projected gradient 8.45943e-08\n",
      "final function value 187.463\n",
      "\n",
      "F = 187.463\n",
      "final  value 187.463175 \n",
      "converged\n"
     ]
    },
    {
     "name": "stderr",
     "output_type": "stream",
     "text": [
      "[mbo] 9: x=-3.23 : y = 2.77e+04 : 0.0 secs : infill_ei\n",
      "\n"
     ]
    },
    {
     "name": "stdout",
     "output_type": "stream",
     "text": [
      "\n",
      "optimisation start\n",
      "------------------\n",
      "* estimation method   : MLE \n",
      "* optimisation method : BFGS \n",
      "* analytical gradient : used\n",
      "* trend model : ~1\n",
      "* covariance model : \n",
      "  - type :  matern3_2 \n",
      "  - nugget : NO\n",
      "  - parameters lower bounds :  1e-10 \n",
      "  - parameters upper bounds :  232.8438 \n",
      "  - best initial criterion value(s) :  -200.1216 \n",
      "\n",
      "N = 1, M = 5 machine precision = 2.22045e-16\n",
      "At X0, 0 variables are exactly at the bounds\n",
      "At iterate     0  f=       200.12  |proj g|=   0.00024356\n",
      "At iterate     1  f =       200.12  |proj g|=    0.00024354\n",
      "\n",
      "iterations 1\n",
      "function evaluations 2\n",
      "segments explored during Cauchy searches 1\n",
      "BFGS updates skipped 0\n",
      "active bounds at final generalized Cauchy point 0\n",
      "norm of the final projected gradient 0.000243538\n",
      "final function value 200.122\n",
      "\n",
      "F = 200.122\n",
      "final  value 200.121605 \n",
      "converged\n"
     ]
    },
    {
     "name": "stderr",
     "output_type": "stream",
     "text": [
      "[mbo] 10: x=15 : y = 2.15e+04 : 0.0 secs : infill_ei\n",
      "\n"
     ]
    },
    {
     "name": "stdout",
     "output_type": "stream",
     "text": [
      "\n",
      "optimisation start\n",
      "------------------\n",
      "* estimation method   : MLE \n",
      "* optimisation method : BFGS \n",
      "* analytical gradient : used\n",
      "* trend model : ~1\n",
      "* covariance model : \n",
      "  - type :  matern3_2 \n",
      "  - nugget : NO\n",
      "  - parameters lower bounds :  1e-10 \n",
      "  - parameters upper bounds :  232.8438 \n",
      "  - best initial criterion value(s) :  -212.611 \n",
      "\n",
      "N = 1, M = 5 machine precision = 2.22045e-16\n",
      "At X0, 0 variables are exactly at the bounds\n",
      "At iterate     0  f=       212.61  |proj g|=    0.0006622\n",
      "At iterate     1  f =       212.61  |proj g|=    0.00066217\n",
      "\n",
      "iterations 1\n",
      "function evaluations 2\n",
      "segments explored during Cauchy searches 1\n",
      "BFGS updates skipped 0\n",
      "active bounds at final generalized Cauchy point 0\n",
      "norm of the final projected gradient 0.000662171\n",
      "final function value 212.611\n",
      "\n",
      "F = 212.611\n",
      "final  value 212.611019 \n",
      "converged\n"
     ]
    },
    {
     "name": "stderr",
     "output_type": "stream",
     "text": [
      "[mbo] 11: x=3.26 : y = -498 : 0.0 secs : infill_ei\n",
      "\n"
     ]
    },
    {
     "name": "stdout",
     "output_type": "stream",
     "text": [
      "\n",
      "optimisation start\n",
      "------------------\n",
      "* estimation method   : MLE \n",
      "* optimisation method : BFGS \n",
      "* analytical gradient : used\n",
      "* trend model : ~1\n",
      "* covariance model : \n",
      "  - type :  matern3_2 \n",
      "  - nugget : NO\n",
      "  - parameters lower bounds :  1e-10 \n",
      "  - parameters upper bounds :  232.8438 \n",
      "  - best initial criterion value(s) :  -225.1212 \n",
      "\n",
      "N = 1, M = 5 machine precision = 2.22045e-16\n",
      "At X0, 0 variables are exactly at the bounds\n",
      "At iterate     0  f=       225.12  |proj g|=   8.4206e-05\n",
      "At iterate     1  f =       225.12  |proj g|=    8.4203e-05\n",
      "\n",
      "iterations 1\n",
      "function evaluations 2\n",
      "segments explored during Cauchy searches 1\n",
      "BFGS updates skipped 0\n",
      "active bounds at final generalized Cauchy point 0\n",
      "norm of the final projected gradient 8.42027e-05\n",
      "final function value 225.121\n",
      "\n",
      "F = 225.121\n",
      "final  value 225.121194 \n",
      "converged\n"
     ]
    },
    {
     "name": "stderr",
     "output_type": "stream",
     "text": [
      "[mbo] 12: x=20.9 : y = -3.13e+04 : 0.0 secs : infill_ei\n",
      "\n"
     ]
    },
    {
     "name": "stdout",
     "output_type": "stream",
     "text": [
      "\n",
      "optimisation start\n",
      "------------------\n",
      "* estimation method   : MLE \n",
      "* optimisation method : BFGS \n",
      "* analytical gradient : used\n",
      "* trend model : ~1\n",
      "* covariance model : \n",
      "  - type :  matern3_2 \n",
      "  - nugget : NO\n",
      "  - parameters lower bounds :  1e-10 \n",
      "  - parameters upper bounds :  232.8438 \n",
      "  - best initial criterion value(s) :  -237.8777 \n",
      "\n",
      "N = 1, M = 5 machine precision = 2.22045e-16\n",
      "At X0, 0 variables are exactly at the bounds\n",
      "At iterate     0  f=       237.88  |proj g|=   0.00084641\n",
      "At iterate     1  f =       237.88  |proj g|=    0.00084637\n",
      "At iterate     2  f =       237.87  |proj g|=    0.00011229\n",
      "At iterate     3  f =       237.87  |proj g|=    1.7459e-05\n",
      "At iterate     4  f =       237.87  |proj g|=    4.4299e-07\n",
      "At iterate     5  f =       237.87  |proj g|=    1.8057e-09\n",
      "\n",
      "iterations 5\n",
      "function evaluations 6\n",
      "segments explored during Cauchy searches 5\n",
      "BFGS updates skipped 0\n",
      "active bounds at final generalized Cauchy point 0\n",
      "norm of the final projected gradient 1.80573e-09\n",
      "final function value 237.87\n",
      "\n",
      "F = 237.87\n",
      "final  value 237.869852 \n",
      "converged\n"
     ]
    },
    {
     "name": "stderr",
     "output_type": "stream",
     "text": [
      "[mbo] 13: x=9.38 : y = 6.54e+03 : 0.0 secs : infill_ei\n",
      "\n"
     ]
    },
    {
     "name": "stdout",
     "output_type": "stream",
     "text": [
      "\n",
      "optimisation start\n",
      "------------------\n",
      "* estimation method   : MLE \n",
      "* optimisation method : BFGS \n",
      "* analytical gradient : used\n",
      "* trend model : ~1\n",
      "* covariance model : \n",
      "  - type :  matern3_2 \n",
      "  - nugget : NO\n",
      "  - parameters lower bounds :  1e-10 \n",
      "  - parameters upper bounds :  232.8438 \n",
      "  - best initial criterion value(s) :  -250.1147 \n",
      "\n",
      "N = 1, M = 5 machine precision = 2.22045e-16\n",
      "At X0, 0 variables are exactly at the bounds\n",
      "At iterate     0  f=       250.11  |proj g|=    0.0011717\n",
      "At iterate     1  f =       250.11  |proj g|=     0.0011716\n",
      "At iterate     2  f =       250.11  |proj g|=             0\n",
      "\n",
      "iterations 2\n",
      "function evaluations 3\n",
      "segments explored during Cauchy searches 2\n",
      "BFGS updates skipped 0\n",
      "active bounds at final generalized Cauchy point 1\n",
      "norm of the final projected gradient 0\n",
      "final function value 250.105\n",
      "\n",
      "F = 250.105\n",
      "final  value 250.105408 \n",
      "converged\n"
     ]
    },
    {
     "name": "stderr",
     "output_type": "stream",
     "text": [
      "[mbo] 14: x=-9.43 : y = 4.15e+04 : 0.0 secs : infill_ei\n",
      "\n"
     ]
    },
    {
     "name": "stdout",
     "output_type": "stream",
     "text": [
      "\n",
      "optimisation start\n",
      "------------------\n",
      "* estimation method   : MLE \n",
      "* optimisation method : BFGS \n",
      "* analytical gradient : used\n",
      "* trend model : ~1\n",
      "* covariance model : \n",
      "  - type :  matern3_2 \n",
      "  - nugget : NO\n",
      "  - parameters lower bounds :  1e-10 \n",
      "  - parameters upper bounds :  232.8438 \n",
      "  - best initial criterion value(s) :  -261.6551 \n",
      "\n",
      "N = 1, M = 5 machine precision = 2.22045e-16\n",
      "At X0, 0 variables are exactly at the bounds\n",
      "At iterate     0  f=       261.66  |proj g|=    0.0023546\n",
      "At iterate     1  f =       261.66  |proj g|=     0.0023545\n",
      "At iterate     2  f =       261.62  |proj g|=             0\n",
      "\n",
      "iterations 2\n",
      "function evaluations 3\n",
      "segments explored during Cauchy searches 2\n",
      "BFGS updates skipped 0\n",
      "active bounds at final generalized Cauchy point 1\n",
      "norm of the final projected gradient 0\n",
      "final function value 261.624\n",
      "\n",
      "F = 261.624\n",
      "final  value 261.624231 \n",
      "converged\n"
     ]
    },
    {
     "name": "stderr",
     "output_type": "stream",
     "text": [
      "[mbo] 15: x=-5 : y = 3.68e+04 : 0.0 secs : infill_ei\n",
      "\n"
     ]
    },
    {
     "name": "stdout",
     "output_type": "stream",
     "text": [
      "\n",
      "optimisation start\n",
      "------------------\n",
      "* estimation method   : MLE \n",
      "* optimisation method : BFGS \n",
      "* analytical gradient : used\n",
      "* trend model : ~1\n",
      "* covariance model : \n",
      "  - type :  matern3_2 \n",
      "  - nugget : NO\n",
      "  - parameters lower bounds :  1e-10 \n",
      "  - parameters upper bounds :  232.8438 \n",
      "  - best initial criterion value(s) :  -273.0235 \n",
      "\n",
      "N = 1, M = 5 machine precision = 2.22045e-16\n",
      "At X0, 0 variables are exactly at the bounds\n",
      "At iterate     0  f=       273.02  |proj g|=    0.0024686\n",
      "At iterate     1  f =       273.02  |proj g|=     0.0024685\n",
      "At iterate     2  f =       273.01  |proj g|=             0\n",
      "\n",
      "iterations 2\n",
      "function evaluations 3\n",
      "segments explored during Cauchy searches 2\n",
      "BFGS updates skipped 0\n",
      "active bounds at final generalized Cauchy point 1\n",
      "norm of the final projected gradient 0\n",
      "final function value 273.012\n",
      "\n",
      "F = 273.012\n",
      "final  value 273.011551 \n",
      "converged\n"
     ]
    },
    {
     "name": "stderr",
     "output_type": "stream",
     "text": [
      "[mbo] 16: x=-8.59 : y = 4.4e+04 : 0.0 secs : infill_ei\n",
      "\n"
     ]
    },
    {
     "name": "stdout",
     "output_type": "stream",
     "text": [
      "\n",
      "optimisation start\n",
      "------------------\n",
      "* estimation method   : MLE \n",
      "* optimisation method : BFGS \n",
      "* analytical gradient : used\n",
      "* trend model : ~1\n",
      "* covariance model : \n",
      "  - type :  matern3_2 \n",
      "  - nugget : NO\n",
      "  - parameters lower bounds :  1e-10 \n",
      "  - parameters upper bounds :  232.8438 \n",
      "  - best initial criterion value(s) :  -283.4162 \n",
      "\n",
      "N = 1, M = 5 machine precision = 2.22045e-16\n",
      "At X0, 0 variables are exactly at the bounds\n",
      "At iterate     0  f=       283.42  |proj g|=    0.0035077\n",
      "At iterate     1  f =       283.42  |proj g|=     0.0035075\n",
      "At iterate     2  f =       283.39  |proj g|=             0\n",
      "\n",
      "iterations 2\n",
      "function evaluations 3\n",
      "segments explored during Cauchy searches 2\n",
      "BFGS updates skipped 0\n",
      "active bounds at final generalized Cauchy point 1\n",
      "norm of the final projected gradient 0\n",
      "final function value 283.387\n",
      "\n",
      "F = 283.387\n",
      "final  value 283.386744 \n",
      "converged\n"
     ]
    },
    {
     "name": "stderr",
     "output_type": "stream",
     "text": [
      "[mbo] 17: x=-1.67 : y = 1.89e+04 : 0.0 secs : infill_ei\n",
      "\n"
     ]
    },
    {
     "name": "stdout",
     "output_type": "stream",
     "text": [
      "\n",
      "optimisation start\n",
      "------------------\n",
      "* estimation method   : MLE \n",
      "* optimisation method : BFGS \n",
      "* analytical gradient : used\n",
      "* trend model : ~1\n",
      "* covariance model : \n",
      "  - type :  matern3_2 \n",
      "  - nugget : NO\n",
      "  - parameters lower bounds :  1e-10 \n",
      "  - parameters upper bounds :  232.8438 \n",
      "  - best initial criterion value(s) :  -294.8062 \n",
      "\n",
      "N = 1, M = 5 machine precision = 2.22045e-16\n",
      "At X0, 0 variables are exactly at the bounds\n",
      "At iterate     0  f=       294.81  |proj g|=    0.0046873\n",
      "At iterate     1  f =       294.81  |proj g|=     0.0046869\n",
      "At iterate     2  f =       294.75  |proj g|=             0\n",
      "\n",
      "iterations 2\n",
      "function evaluations 3\n",
      "segments explored during Cauchy searches 2\n",
      "BFGS updates skipped 0\n",
      "active bounds at final generalized Cauchy point 1\n",
      "norm of the final projected gradient 0\n",
      "final function value 294.748\n",
      "\n",
      "F = 294.748\n",
      "final  value 294.747864 \n",
      "converged\n"
     ]
    },
    {
     "name": "stderr",
     "output_type": "stream",
     "text": [
      "[mbo] 18: x=-12.7 : y = 5.01e+03 : 0.0 secs : infill_ei\n",
      "\n"
     ]
    },
    {
     "name": "stdout",
     "output_type": "stream",
     "text": [
      "\n",
      "optimisation start\n",
      "------------------\n",
      "* estimation method   : MLE \n",
      "* optimisation method : BFGS \n",
      "* analytical gradient : used\n",
      "* trend model : ~1\n",
      "* covariance model : \n",
      "  - type :  matern3_2 \n",
      "  - nugget : NO\n",
      "  - parameters lower bounds :  1e-10 \n",
      "  - parameters upper bounds :  232.8438 \n",
      "  - best initial criterion value(s) :  -306.2529 \n",
      "\n",
      "N = 1, M = 5 machine precision = 2.22045e-16\n",
      "At X0, 0 variables are exactly at the bounds\n",
      "At iterate     0  f=       306.25  |proj g|=     0.006684\n",
      "At iterate     1  f =       306.25  |proj g|=     0.0066833\n",
      "At iterate     2  f =       306.11  |proj g|=             0\n",
      "\n",
      "iterations 2\n",
      "function evaluations 3\n",
      "segments explored during Cauchy searches 2\n",
      "BFGS updates skipped 0\n",
      "active bounds at final generalized Cauchy point 1\n",
      "norm of the final projected gradient 0\n",
      "final function value 306.111\n",
      "\n",
      "F = 306.111\n",
      "final  value 306.111017 \n",
      "converged\n"
     ]
    },
    {
     "name": "stderr",
     "output_type": "stream",
     "text": [
      "[mbo] 19: x=13.6 : y = 2.01e+04 : 0.0 secs : infill_ei\n",
      "\n"
     ]
    },
    {
     "name": "stdout",
     "output_type": "stream",
     "text": [
      "\n",
      "optimisation start\n",
      "------------------\n",
      "* estimation method   : MLE \n",
      "* optimisation method : BFGS \n",
      "* analytical gradient : used\n",
      "* trend model : ~1\n",
      "* covariance model : \n",
      "  - type :  matern3_2 \n",
      "  - nugget : NO\n",
      "  - parameters lower bounds :  1e-10 \n",
      "  - parameters upper bounds :  232.8438 \n",
      "  - best initial criterion value(s) :  -317.2809 \n",
      "\n",
      "N = 1, M = 5 machine precision = 2.22045e-16\n",
      "At X0, 0 variables are exactly at the bounds\n",
      "At iterate     0  f=       317.28  |proj g|=    0.0055193\n",
      "At iterate     1  f =       317.28  |proj g|=     0.0055189\n",
      "At iterate     2  f =       317.25  |proj g|=             0\n",
      "\n",
      "iterations 2\n",
      "function evaluations 3\n",
      "segments explored during Cauchy searches 2\n",
      "BFGS updates skipped 0\n",
      "active bounds at final generalized Cauchy point 1\n",
      "norm of the final projected gradient 0\n",
      "final function value 317.252\n",
      "\n",
      "F = 317.252\n",
      "final  value 317.252082 \n",
      "converged\n"
     ]
    },
    {
     "name": "stderr",
     "output_type": "stream",
     "text": [
      "[mbo] 20: x=-7.2 : y = 4.4e+04 : 0.0 secs : infill_ei\n",
      "\n"
     ]
    },
    {
     "name": "stdout",
     "output_type": "stream",
     "text": [
      "\n",
      "optimisation start\n",
      "------------------\n",
      "* estimation method   : MLE \n",
      "* optimisation method : BFGS \n",
      "* analytical gradient : used\n",
      "* trend model : ~1\n",
      "* covariance model : \n",
      "  - type :  matern3_2 \n",
      "  - nugget : NO\n",
      "  - parameters lower bounds :  1e-10 \n",
      "  - parameters upper bounds :  232.8438 \n",
      "  - best initial criterion value(s) :  -327.0946 \n",
      "\n",
      "N = 1, M = 5 machine precision = 2.22045e-16\n",
      "At X0, 0 variables are exactly at the bounds\n",
      "At iterate     0  f=       327.09  |proj g|=    0.0058037\n",
      "At iterate     1  f =       327.09  |proj g|=     0.0058032\n",
      "At iterate     2  f =       327.09  |proj g|=             0\n",
      "\n",
      "iterations 2\n",
      "function evaluations 3\n",
      "segments explored during Cauchy searches 2\n",
      "BFGS updates skipped 0\n",
      "active bounds at final generalized Cauchy point 1\n",
      "norm of the final projected gradient 0\n",
      "final function value 327.094\n",
      "\n",
      "F = 327.094\n",
      "final  value 327.094338 \n",
      "converged\n"
     ]
    },
    {
     "name": "stderr",
     "output_type": "stream",
     "text": [
      "[mbo] 21: x=-10.3 : y = 3.67e+04 : 0.0 secs : infill_ei\n",
      "\n"
     ]
    },
    {
     "name": "stdout",
     "output_type": "stream",
     "text": [
      "\n",
      "optimisation start\n",
      "------------------\n",
      "* estimation method   : MLE \n",
      "* optimisation method : BFGS \n",
      "* analytical gradient : used\n",
      "* trend model : ~1\n",
      "* covariance model : \n",
      "  - type :  matern3_2 \n",
      "  - nugget : NO\n",
      "  - parameters lower bounds :  1e-10 \n",
      "  - parameters upper bounds :  232.8438 \n",
      "  - best initial criterion value(s) :  -337.524 \n",
      "\n",
      "N = 1, M = 5 machine precision = 2.22045e-16\n",
      "At X0, 0 variables are exactly at the bounds\n",
      "At iterate     0  f=       337.52  |proj g|=    0.0067487\n",
      "At iterate     1  f =       337.52  |proj g|=      0.006748\n",
      "At iterate     2  f =       337.51  |proj g|=             0\n",
      "\n",
      "iterations 2\n",
      "function evaluations 3\n",
      "segments explored during Cauchy searches 2\n",
      "BFGS updates skipped 0\n",
      "active bounds at final generalized Cauchy point 1\n",
      "norm of the final projected gradient 0\n",
      "final function value 337.508\n",
      "\n",
      "F = 337.508\n",
      "final  value 337.508343 \n",
      "converged\n"
     ]
    },
    {
     "name": "stderr",
     "output_type": "stream",
     "text": [
      "[mbo] 22: x=-5.84 : y = 4.04e+04 : 0.0 secs : infill_ei\n",
      "\n"
     ]
    },
    {
     "name": "stdout",
     "output_type": "stream",
     "text": [
      "\n",
      "optimisation start\n",
      "------------------\n",
      "* estimation method   : MLE \n",
      "* optimisation method : BFGS \n",
      "* analytical gradient : used\n",
      "* trend model : ~1\n",
      "* covariance model : \n",
      "  - type :  matern3_2 \n",
      "  - nugget : NO\n",
      "  - parameters lower bounds :  1e-10 \n",
      "  - parameters upper bounds :  232.8438 \n",
      "  - best initial criterion value(s) :  -347.7236 \n",
      "\n",
      "N = 1, M = 5 machine precision = 2.22045e-16\n",
      "At X0, 0 variables are exactly at the bounds\n",
      "At iterate     0  f=       347.72  |proj g|=    0.0086562\n",
      "At iterate     1  f =       347.72  |proj g|=     0.0086552\n",
      "At iterate     2  f =       347.62  |proj g|=             0\n",
      "\n",
      "iterations 2\n",
      "function evaluations 3\n",
      "segments explored during Cauchy searches 2\n",
      "BFGS updates skipped 0\n",
      "active bounds at final generalized Cauchy point 1\n",
      "norm of the final projected gradient 0\n",
      "final function value 347.62\n",
      "\n",
      "F = 347.62\n",
      "final  value 347.620439 \n",
      "converged\n"
     ]
    },
    {
     "name": "stderr",
     "output_type": "stream",
     "text": [
      "[mbo] 23: x=16.3 : y = 1.95e+04 : 0.0 secs : infill_ei\n",
      "\n"
     ]
    },
    {
     "name": "stdout",
     "output_type": "stream",
     "text": [
      "\n",
      "optimisation start\n",
      "------------------\n",
      "* estimation method   : MLE \n",
      "* optimisation method : BFGS \n",
      "* analytical gradient : used\n",
      "* trend model : ~1\n",
      "* covariance model : \n",
      "  - type :  matern3_2 \n",
      "  - nugget : NO\n",
      "  - parameters lower bounds :  1e-10 \n",
      "  - parameters upper bounds :  232.8438 \n",
      "  - best initial criterion value(s) :  -358.7276 \n",
      "\n",
      "N = 1, M = 5 machine precision = 2.22045e-16\n",
      "At X0, 0 variables are exactly at the bounds\n",
      "At iterate     0  f=       358.73  |proj g|=     0.010045\n",
      "At iterate     1  f =       358.73  |proj g|=      0.010044\n",
      "At iterate     2  f =       358.57  |proj g|=             0\n",
      "\n",
      "iterations 2\n",
      "function evaluations 3\n",
      "segments explored during Cauchy searches 2\n",
      "BFGS updates skipped 0\n",
      "active bounds at final generalized Cauchy point 1\n",
      "norm of the final projected gradient 0\n",
      "final function value 358.571\n",
      "\n",
      "F = 358.571\n",
      "final  value 358.571341 \n",
      "converged\n"
     ]
    },
    {
     "name": "stderr",
     "output_type": "stream",
     "text": [
      "[mbo] 24: x=-8.18 : y = 4.45e+04 : 0.0 secs : infill_ei\n",
      "\n"
     ]
    },
    {
     "name": "stdout",
     "output_type": "stream",
     "text": [
      "\n",
      "optimisation start\n",
      "------------------\n",
      "* estimation method   : MLE \n",
      "* optimisation method : BFGS \n",
      "* analytical gradient : used\n",
      "* trend model : ~1\n",
      "* covariance model : \n",
      "  - type :  matern3_2 \n",
      "  - nugget : NO\n",
      "  - parameters lower bounds :  1e-10 \n",
      "  - parameters upper bounds :  232.8438 \n",
      "  - best initial criterion value(s) :  -367.6934 \n",
      "\n",
      "N = 1, M = 5 machine precision = 2.22045e-16\n",
      "At X0, 0 variables are exactly at the bounds\n",
      "At iterate     0  f=       367.69  |proj g|=    0.0088919\n",
      "At iterate     1  f =       367.69  |proj g|=     0.0088909\n",
      "At iterate     2  f =       367.68  |proj g|=             0\n",
      "\n",
      "iterations 2\n",
      "function evaluations 3\n",
      "segments explored during Cauchy searches 2\n",
      "BFGS updates skipped 0\n",
      "active bounds at final generalized Cauchy point 1\n",
      "norm of the final projected gradient 0\n",
      "final function value 367.679\n",
      "\n",
      "F = 367.679\n",
      "final  value 367.679387 \n",
      "converged\n"
     ]
    },
    {
     "name": "stderr",
     "output_type": "stream",
     "text": [
      "[mbo] 25: x=-8.97 : y = 4.31e+04 : 0.0 secs : infill_ei\n",
      "\n"
     ]
    },
    {
     "name": "stdout",
     "output_type": "stream",
     "text": [
      "\n",
      "optimisation start\n",
      "------------------\n",
      "* estimation method   : MLE \n",
      "* optimisation method : BFGS \n",
      "* analytical gradient : used\n",
      "* trend model : ~1\n",
      "* covariance model : \n",
      "  - type :  matern3_2 \n",
      "  - nugget : NO\n",
      "  - parameters lower bounds :  1e-10 \n",
      "  - parameters upper bounds :  232.8438 \n",
      "  - best initial criterion value(s) :  -377.1142 \n",
      "\n",
      "N = 1, M = 5 machine precision = 2.22045e-16\n",
      "At X0, 0 variables are exactly at the bounds\n",
      "At iterate     0  f=       377.11  |proj g|=     0.013442\n",
      "At iterate     1  f =       377.11  |proj g|=       0.01344\n",
      "At iterate     2  f =        376.8  |proj g|=             0\n",
      "\n",
      "iterations 2\n",
      "function evaluations 3\n",
      "segments explored during Cauchy searches 2\n",
      "BFGS updates skipped 0\n",
      "active bounds at final generalized Cauchy point 1\n",
      "norm of the final projected gradient 0\n",
      "final function value 376.799\n",
      "\n",
      "F = 376.799\n",
      "final  value 376.799140 \n",
      "converged\n"
     ]
    }
   ],
   "source": [
    "run  <- mbo( fun=      obj.fun, \n",
    "             learner= fproxy, \n",
    "             control= ctrl )"
   ]
  },
  {
   "cell_type": "code",
   "execution_count": 19,
   "metadata": {
    "vscode": {
     "languageId": "r"
    }
   },
   "outputs": [],
   "source": [
    "tb_resultados  <- as.data.table( run$opt.path )"
   ]
  },
  {
   "cell_type": "code",
   "execution_count": 20,
   "metadata": {
    "vscode": {
     "languageId": "r"
    }
   },
   "outputs": [
    {
     "data": {
      "text/html": [
       "<table class=\"dataframe\">\n",
       "<caption>A data.table: 29 × 13</caption>\n",
       "<thead>\n",
       "\t<tr><th scope=col>x</th><th scope=col>y</th><th scope=col>dob</th><th scope=col>eol</th><th scope=col>error.message</th><th scope=col>exec.time</th><th scope=col>ei</th><th scope=col>error.model</th><th scope=col>train.time</th><th scope=col>prop.type</th><th scope=col>propose.time</th><th scope=col>se</th><th scope=col>mean</th></tr>\n",
       "\t<tr><th scope=col>&lt;dbl&gt;</th><th scope=col>&lt;dbl&gt;</th><th scope=col>&lt;int&gt;</th><th scope=col>&lt;int&gt;</th><th scope=col>&lt;chr&gt;</th><th scope=col>&lt;dbl&gt;</th><th scope=col>&lt;dbl&gt;</th><th scope=col>&lt;chr&gt;</th><th scope=col>&lt;dbl&gt;</th><th scope=col>&lt;chr&gt;</th><th scope=col>&lt;dbl&gt;</th><th scope=col>&lt;dbl&gt;</th><th scope=col>&lt;dbl&gt;</th></tr>\n",
       "</thead>\n",
       "<tbody>\n",
       "\t<tr><td> 34.6286229</td><td>-1.300943e+06</td><td> 0</td><td>NA</td><td>NA</td><td>0.001</td><td>           NA</td><td>NA</td><td>   NA</td><td>initdesign</td><td>   NA</td><td>         NA</td><td>           NA</td></tr>\n",
       "\t<tr><td>-54.4724652</td><td>-2.153054e+07</td><td> 0</td><td>NA</td><td>NA</td><td>0.000</td><td>           NA</td><td>NA</td><td>   NA</td><td>initdesign</td><td>   NA</td><td>         NA</td><td>           NA</td></tr>\n",
       "\t<tr><td> -7.7941975</td><td> 4.454923e+04</td><td> 0</td><td>NA</td><td>NA</td><td>0.000</td><td>           NA</td><td>NA</td><td>   NA</td><td>initdesign</td><td>   NA</td><td>         NA</td><td>           NA</td></tr>\n",
       "\t<tr><td> 61.9494477</td><td>-2.085447e+07</td><td> 0</td><td>NA</td><td>NA</td><td>0.000</td><td>           NA</td><td>NA</td><td>   NA</td><td>initdesign</td><td>   NA</td><td>         NA</td><td>           NA</td></tr>\n",
       "\t<tr><td> -6.5673813</td><td> 4.269659e+04</td><td> 1</td><td>NA</td><td>NA</td><td>0.000</td><td>-1578520.6739</td><td>NA</td><td>0.142</td><td>infill_ei </td><td>0.250</td><td>7423673.674</td><td>-3319660.2127</td></tr>\n",
       "\t<tr><td> 17.6874048</td><td> 1.264557e+04</td><td> 2</td><td>NA</td><td>NA</td><td>0.000</td><td>-2355976.3569</td><td>NA</td><td>0.076</td><td>infill_ei </td><td>0.262</td><td>6500813.925</td><td> -445103.7743</td></tr>\n",
       "\t<tr><td> 25.7230767</td><td>-2.215197e+05</td><td> 3</td><td>NA</td><td>NA</td><td>0.000</td><td> -805701.3964</td><td>NA</td><td>0.030</td><td>infill_ei </td><td>0.281</td><td>1685958.337</td><td>  295837.5301</td></tr>\n",
       "\t<tr><td>  6.4068214</td><td>-9.877673e+02</td><td> 4</td><td>NA</td><td>NA</td><td>0.000</td><td> -608764.0531</td><td>NA</td><td>0.059</td><td>infill_ei </td><td>0.264</td><td>1526858.373</td><td>   43820.4759</td></tr>\n",
       "\t<tr><td> 12.1229605</td><td> 1.614950e+04</td><td> 5</td><td>NA</td><td>NA</td><td>0.000</td><td> -186706.2602</td><td>NA</td><td>0.029</td><td>infill_ei </td><td>0.265</td><td> 478477.726</td><td>   36132.6993</td></tr>\n",
       "\t<tr><td>  0.1028737</td><td> 9.895276e+03</td><td> 6</td><td>NA</td><td>NA</td><td>0.000</td><td> -145488.7408</td><td>NA</td><td>0.033</td><td>infill_ei </td><td>0.267</td><td> 414697.646</td><td>    2985.3296</td></tr>\n",
       "\t<tr><td>-14.3925315</td><td>-3.460265e+04</td><td> 7</td><td>NA</td><td>NA</td><td>0.000</td><td>  -61197.8874</td><td>NA</td><td>0.034</td><td>infill_ei </td><td>0.273</td><td> 801568.230</td><td> -793466.6836</td></tr>\n",
       "\t<tr><td>-11.3950903</td><td> 2.583452e+04</td><td> 8</td><td>NA</td><td>NA</td><td>0.000</td><td>  -83347.1626</td><td>NA</td><td>0.055</td><td>infill_ei </td><td>0.317</td><td> 154703.814</td><td>   83846.7073</td></tr>\n",
       "\t<tr><td> -3.2333115</td><td> 2.770234e+04</td><td> 9</td><td>NA</td><td>NA</td><td>0.000</td><td>  -43701.2656</td><td>NA</td><td>0.037</td><td>infill_ei </td><td>0.279</td><td> 129987.935</td><td>   27327.4721</td></tr>\n",
       "\t<tr><td> 14.9713261</td><td> 2.150691e+04</td><td>10</td><td>NA</td><td>NA</td><td>0.000</td><td>  -34856.0670</td><td>NA</td><td>0.038</td><td>infill_ei </td><td>0.284</td><td> 109213.966</td><td>   25846.6186</td></tr>\n",
       "\t<tr><td>  3.2600911</td><td>-4.978995e+02</td><td>11</td><td>NA</td><td>NA</td><td>0.000</td><td>  -25089.4376</td><td>NA</td><td>0.034</td><td>infill_ei </td><td>0.270</td><td> 110120.027</td><td>    -333.5905</td></tr>\n",
       "\t<tr><td> 20.8662355</td><td>-3.131519e+04</td><td>12</td><td>NA</td><td>NA</td><td>0.000</td><td>  -20712.4296</td><td>NA</td><td>0.040</td><td>infill_ei </td><td>0.273</td><td> 139181.147</td><td>  -49515.2439</td></tr>\n",
       "\t<tr><td>  9.3791089</td><td> 6.535253e+03</td><td>13</td><td>NA</td><td>NA</td><td>0.000</td><td>  -17733.0291</td><td>NA</td><td>0.048</td><td>infill_ei </td><td>0.330</td><td>  83460.518</td><td>    6685.7633</td></tr>\n",
       "\t<tr><td> -9.4275019</td><td> 4.146637e+04</td><td>14</td><td>NA</td><td>NA</td><td>0.001</td><td>  -12926.4102</td><td>NA</td><td>0.073</td><td>infill_ei </td><td>0.284</td><td>  40517.494</td><td>   37599.3523</td></tr>\n",
       "\t<tr><td> -4.9953525</td><td> 3.684257e+04</td><td>15</td><td>NA</td><td>NA</td><td>0.000</td><td>  -10745.5193</td><td>NA</td><td>0.042</td><td>infill_ei </td><td>0.334</td><td>  35668.257</td><td>   36935.1366</td></tr>\n",
       "\t<tr><td> -8.5871190</td><td> 4.397440e+04</td><td>16</td><td>NA</td><td>NA</td><td>0.000</td><td>   -5058.7914</td><td>NA</td><td>0.047</td><td>infill_ei </td><td>0.348</td><td>  12949.117</td><td>   44333.4795</td></tr>\n",
       "\t<tr><td> -1.6671236</td><td> 1.894848e+04</td><td>17</td><td>NA</td><td>NA</td><td>0.000</td><td>   -4652.9658</td><td>NA</td><td>0.043</td><td>infill_ei </td><td>0.294</td><td>  34699.381</td><td>   18969.0168</td></tr>\n",
       "\t<tr><td>-12.7462991</td><td> 5.008519e+03</td><td>18</td><td>NA</td><td>NA</td><td>0.000</td><td>   -3523.7381</td><td>NA</td><td>0.037</td><td>infill_ei </td><td>0.287</td><td>  32474.319</td><td>   16704.3942</td></tr>\n",
       "\t<tr><td> 13.5942652</td><td> 2.008676e+04</td><td>19</td><td>NA</td><td>NA</td><td>0.000</td><td>   -2921.1251</td><td>NA</td><td>0.040</td><td>infill_ei </td><td>0.344</td><td>  27814.533</td><td>   20197.6773</td></tr>\n",
       "\t<tr><td> -7.2022823</td><td> 4.402321e+04</td><td>20</td><td>NA</td><td>NA</td><td>0.001</td><td>   -2769.0281</td><td>NA</td><td>0.046</td><td>infill_ei </td><td>0.333</td><td>   7585.793</td><td>   44019.9745</td></tr>\n",
       "\t<tr><td>-10.2570892</td><td> 3.671880e+04</td><td>21</td><td>NA</td><td>NA</td><td>0.000</td><td>   -2413.6116</td><td>NA</td><td>0.053</td><td>infill_ei </td><td>0.345</td><td>  13427.710</td><td>   37022.1050</td></tr>\n",
       "\t<tr><td> -5.8372873</td><td> 4.036490e+04</td><td>22</td><td>NA</td><td>NA</td><td>0.000</td><td>   -2215.2127</td><td>NA</td><td>0.034</td><td>infill_ei </td><td>0.426</td><td>   9927.131</td><td>   40365.8895</td></tr>\n",
       "\t<tr><td> 16.3106584</td><td> 1.953806e+04</td><td>23</td><td>NA</td><td>NA</td><td>0.000</td><td>   -1566.6222</td><td>NA</td><td>0.057</td><td>infill_ei </td><td>0.349</td><td>  22956.717</td><td>   19232.8922</td></tr>\n",
       "\t<tr><td> -8.1800714</td><td> 4.446718e+04</td><td>24</td><td>NA</td><td>NA</td><td>0.000</td><td>   -1408.4866</td><td>NA</td><td>0.054</td><td>infill_ei </td><td>0.301</td><td>   3634.602</td><td>   44465.4408</td></tr>\n",
       "\t<tr><td> -8.9663034</td><td> 4.310550e+04</td><td>25</td><td>NA</td><td>NA</td><td>0.000</td><td>    -858.6774</td><td>NA</td><td>0.042</td><td>infill_ei </td><td>0.292</td><td>   3676.207</td><td>   43112.0660</td></tr>\n",
       "</tbody>\n",
       "</table>\n"
      ],
      "text/latex": [
       "A data.table: 29 × 13\n",
       "\\begin{tabular}{lllllllllllll}\n",
       " x & y & dob & eol & error.message & exec.time & ei & error.model & train.time & prop.type & propose.time & se & mean\\\\\n",
       " <dbl> & <dbl> & <int> & <int> & <chr> & <dbl> & <dbl> & <chr> & <dbl> & <chr> & <dbl> & <dbl> & <dbl>\\\\\n",
       "\\hline\n",
       "\t  34.6286229 & -1.300943e+06 &  0 & NA & NA & 0.001 &            NA & NA &    NA & initdesign &    NA &          NA &            NA\\\\\n",
       "\t -54.4724652 & -2.153054e+07 &  0 & NA & NA & 0.000 &            NA & NA &    NA & initdesign &    NA &          NA &            NA\\\\\n",
       "\t  -7.7941975 &  4.454923e+04 &  0 & NA & NA & 0.000 &            NA & NA &    NA & initdesign &    NA &          NA &            NA\\\\\n",
       "\t  61.9494477 & -2.085447e+07 &  0 & NA & NA & 0.000 &            NA & NA &    NA & initdesign &    NA &          NA &            NA\\\\\n",
       "\t  -6.5673813 &  4.269659e+04 &  1 & NA & NA & 0.000 & -1578520.6739 & NA & 0.142 & infill\\_ei  & 0.250 & 7423673.674 & -3319660.2127\\\\\n",
       "\t  17.6874048 &  1.264557e+04 &  2 & NA & NA & 0.000 & -2355976.3569 & NA & 0.076 & infill\\_ei  & 0.262 & 6500813.925 &  -445103.7743\\\\\n",
       "\t  25.7230767 & -2.215197e+05 &  3 & NA & NA & 0.000 &  -805701.3964 & NA & 0.030 & infill\\_ei  & 0.281 & 1685958.337 &   295837.5301\\\\\n",
       "\t   6.4068214 & -9.877673e+02 &  4 & NA & NA & 0.000 &  -608764.0531 & NA & 0.059 & infill\\_ei  & 0.264 & 1526858.373 &    43820.4759\\\\\n",
       "\t  12.1229605 &  1.614950e+04 &  5 & NA & NA & 0.000 &  -186706.2602 & NA & 0.029 & infill\\_ei  & 0.265 &  478477.726 &    36132.6993\\\\\n",
       "\t   0.1028737 &  9.895276e+03 &  6 & NA & NA & 0.000 &  -145488.7408 & NA & 0.033 & infill\\_ei  & 0.267 &  414697.646 &     2985.3296\\\\\n",
       "\t -14.3925315 & -3.460265e+04 &  7 & NA & NA & 0.000 &   -61197.8874 & NA & 0.034 & infill\\_ei  & 0.273 &  801568.230 &  -793466.6836\\\\\n",
       "\t -11.3950903 &  2.583452e+04 &  8 & NA & NA & 0.000 &   -83347.1626 & NA & 0.055 & infill\\_ei  & 0.317 &  154703.814 &    83846.7073\\\\\n",
       "\t  -3.2333115 &  2.770234e+04 &  9 & NA & NA & 0.000 &   -43701.2656 & NA & 0.037 & infill\\_ei  & 0.279 &  129987.935 &    27327.4721\\\\\n",
       "\t  14.9713261 &  2.150691e+04 & 10 & NA & NA & 0.000 &   -34856.0670 & NA & 0.038 & infill\\_ei  & 0.284 &  109213.966 &    25846.6186\\\\\n",
       "\t   3.2600911 & -4.978995e+02 & 11 & NA & NA & 0.000 &   -25089.4376 & NA & 0.034 & infill\\_ei  & 0.270 &  110120.027 &     -333.5905\\\\\n",
       "\t  20.8662355 & -3.131519e+04 & 12 & NA & NA & 0.000 &   -20712.4296 & NA & 0.040 & infill\\_ei  & 0.273 &  139181.147 &   -49515.2439\\\\\n",
       "\t   9.3791089 &  6.535253e+03 & 13 & NA & NA & 0.000 &   -17733.0291 & NA & 0.048 & infill\\_ei  & 0.330 &   83460.518 &     6685.7633\\\\\n",
       "\t  -9.4275019 &  4.146637e+04 & 14 & NA & NA & 0.001 &   -12926.4102 & NA & 0.073 & infill\\_ei  & 0.284 &   40517.494 &    37599.3523\\\\\n",
       "\t  -4.9953525 &  3.684257e+04 & 15 & NA & NA & 0.000 &   -10745.5193 & NA & 0.042 & infill\\_ei  & 0.334 &   35668.257 &    36935.1366\\\\\n",
       "\t  -8.5871190 &  4.397440e+04 & 16 & NA & NA & 0.000 &    -5058.7914 & NA & 0.047 & infill\\_ei  & 0.348 &   12949.117 &    44333.4795\\\\\n",
       "\t  -1.6671236 &  1.894848e+04 & 17 & NA & NA & 0.000 &    -4652.9658 & NA & 0.043 & infill\\_ei  & 0.294 &   34699.381 &    18969.0168\\\\\n",
       "\t -12.7462991 &  5.008519e+03 & 18 & NA & NA & 0.000 &    -3523.7381 & NA & 0.037 & infill\\_ei  & 0.287 &   32474.319 &    16704.3942\\\\\n",
       "\t  13.5942652 &  2.008676e+04 & 19 & NA & NA & 0.000 &    -2921.1251 & NA & 0.040 & infill\\_ei  & 0.344 &   27814.533 &    20197.6773\\\\\n",
       "\t  -7.2022823 &  4.402321e+04 & 20 & NA & NA & 0.001 &    -2769.0281 & NA & 0.046 & infill\\_ei  & 0.333 &    7585.793 &    44019.9745\\\\\n",
       "\t -10.2570892 &  3.671880e+04 & 21 & NA & NA & 0.000 &    -2413.6116 & NA & 0.053 & infill\\_ei  & 0.345 &   13427.710 &    37022.1050\\\\\n",
       "\t  -5.8372873 &  4.036490e+04 & 22 & NA & NA & 0.000 &    -2215.2127 & NA & 0.034 & infill\\_ei  & 0.426 &    9927.131 &    40365.8895\\\\\n",
       "\t  16.3106584 &  1.953806e+04 & 23 & NA & NA & 0.000 &    -1566.6222 & NA & 0.057 & infill\\_ei  & 0.349 &   22956.717 &    19232.8922\\\\\n",
       "\t  -8.1800714 &  4.446718e+04 & 24 & NA & NA & 0.000 &    -1408.4866 & NA & 0.054 & infill\\_ei  & 0.301 &    3634.602 &    44465.4408\\\\\n",
       "\t  -8.9663034 &  4.310550e+04 & 25 & NA & NA & 0.000 &     -858.6774 & NA & 0.042 & infill\\_ei  & 0.292 &    3676.207 &    43112.0660\\\\\n",
       "\\end{tabular}\n"
      ],
      "text/markdown": [
       "\n",
       "A data.table: 29 × 13\n",
       "\n",
       "| x &lt;dbl&gt; | y &lt;dbl&gt; | dob &lt;int&gt; | eol &lt;int&gt; | error.message &lt;chr&gt; | exec.time &lt;dbl&gt; | ei &lt;dbl&gt; | error.model &lt;chr&gt; | train.time &lt;dbl&gt; | prop.type &lt;chr&gt; | propose.time &lt;dbl&gt; | se &lt;dbl&gt; | mean &lt;dbl&gt; |\n",
       "|---|---|---|---|---|---|---|---|---|---|---|---|---|\n",
       "|  34.6286229 | -1.300943e+06 |  0 | NA | NA | 0.001 |            NA | NA |    NA | initdesign |    NA |          NA |            NA |\n",
       "| -54.4724652 | -2.153054e+07 |  0 | NA | NA | 0.000 |            NA | NA |    NA | initdesign |    NA |          NA |            NA |\n",
       "|  -7.7941975 |  4.454923e+04 |  0 | NA | NA | 0.000 |            NA | NA |    NA | initdesign |    NA |          NA |            NA |\n",
       "|  61.9494477 | -2.085447e+07 |  0 | NA | NA | 0.000 |            NA | NA |    NA | initdesign |    NA |          NA |            NA |\n",
       "|  -6.5673813 |  4.269659e+04 |  1 | NA | NA | 0.000 | -1578520.6739 | NA | 0.142 | infill_ei  | 0.250 | 7423673.674 | -3319660.2127 |\n",
       "|  17.6874048 |  1.264557e+04 |  2 | NA | NA | 0.000 | -2355976.3569 | NA | 0.076 | infill_ei  | 0.262 | 6500813.925 |  -445103.7743 |\n",
       "|  25.7230767 | -2.215197e+05 |  3 | NA | NA | 0.000 |  -805701.3964 | NA | 0.030 | infill_ei  | 0.281 | 1685958.337 |   295837.5301 |\n",
       "|   6.4068214 | -9.877673e+02 |  4 | NA | NA | 0.000 |  -608764.0531 | NA | 0.059 | infill_ei  | 0.264 | 1526858.373 |    43820.4759 |\n",
       "|  12.1229605 |  1.614950e+04 |  5 | NA | NA | 0.000 |  -186706.2602 | NA | 0.029 | infill_ei  | 0.265 |  478477.726 |    36132.6993 |\n",
       "|   0.1028737 |  9.895276e+03 |  6 | NA | NA | 0.000 |  -145488.7408 | NA | 0.033 | infill_ei  | 0.267 |  414697.646 |     2985.3296 |\n",
       "| -14.3925315 | -3.460265e+04 |  7 | NA | NA | 0.000 |   -61197.8874 | NA | 0.034 | infill_ei  | 0.273 |  801568.230 |  -793466.6836 |\n",
       "| -11.3950903 |  2.583452e+04 |  8 | NA | NA | 0.000 |   -83347.1626 | NA | 0.055 | infill_ei  | 0.317 |  154703.814 |    83846.7073 |\n",
       "|  -3.2333115 |  2.770234e+04 |  9 | NA | NA | 0.000 |   -43701.2656 | NA | 0.037 | infill_ei  | 0.279 |  129987.935 |    27327.4721 |\n",
       "|  14.9713261 |  2.150691e+04 | 10 | NA | NA | 0.000 |   -34856.0670 | NA | 0.038 | infill_ei  | 0.284 |  109213.966 |    25846.6186 |\n",
       "|   3.2600911 | -4.978995e+02 | 11 | NA | NA | 0.000 |   -25089.4376 | NA | 0.034 | infill_ei  | 0.270 |  110120.027 |     -333.5905 |\n",
       "|  20.8662355 | -3.131519e+04 | 12 | NA | NA | 0.000 |   -20712.4296 | NA | 0.040 | infill_ei  | 0.273 |  139181.147 |   -49515.2439 |\n",
       "|   9.3791089 |  6.535253e+03 | 13 | NA | NA | 0.000 |   -17733.0291 | NA | 0.048 | infill_ei  | 0.330 |   83460.518 |     6685.7633 |\n",
       "|  -9.4275019 |  4.146637e+04 | 14 | NA | NA | 0.001 |   -12926.4102 | NA | 0.073 | infill_ei  | 0.284 |   40517.494 |    37599.3523 |\n",
       "|  -4.9953525 |  3.684257e+04 | 15 | NA | NA | 0.000 |   -10745.5193 | NA | 0.042 | infill_ei  | 0.334 |   35668.257 |    36935.1366 |\n",
       "|  -8.5871190 |  4.397440e+04 | 16 | NA | NA | 0.000 |    -5058.7914 | NA | 0.047 | infill_ei  | 0.348 |   12949.117 |    44333.4795 |\n",
       "|  -1.6671236 |  1.894848e+04 | 17 | NA | NA | 0.000 |    -4652.9658 | NA | 0.043 | infill_ei  | 0.294 |   34699.381 |    18969.0168 |\n",
       "| -12.7462991 |  5.008519e+03 | 18 | NA | NA | 0.000 |    -3523.7381 | NA | 0.037 | infill_ei  | 0.287 |   32474.319 |    16704.3942 |\n",
       "|  13.5942652 |  2.008676e+04 | 19 | NA | NA | 0.000 |    -2921.1251 | NA | 0.040 | infill_ei  | 0.344 |   27814.533 |    20197.6773 |\n",
       "|  -7.2022823 |  4.402321e+04 | 20 | NA | NA | 0.001 |    -2769.0281 | NA | 0.046 | infill_ei  | 0.333 |    7585.793 |    44019.9745 |\n",
       "| -10.2570892 |  3.671880e+04 | 21 | NA | NA | 0.000 |    -2413.6116 | NA | 0.053 | infill_ei  | 0.345 |   13427.710 |    37022.1050 |\n",
       "|  -5.8372873 |  4.036490e+04 | 22 | NA | NA | 0.000 |    -2215.2127 | NA | 0.034 | infill_ei  | 0.426 |    9927.131 |    40365.8895 |\n",
       "|  16.3106584 |  1.953806e+04 | 23 | NA | NA | 0.000 |    -1566.6222 | NA | 0.057 | infill_ei  | 0.349 |   22956.717 |    19232.8922 |\n",
       "|  -8.1800714 |  4.446718e+04 | 24 | NA | NA | 0.000 |    -1408.4866 | NA | 0.054 | infill_ei  | 0.301 |    3634.602 |    44465.4408 |\n",
       "|  -8.9663034 |  4.310550e+04 | 25 | NA | NA | 0.000 |     -858.6774 | NA | 0.042 | infill_ei  | 0.292 |    3676.207 |    43112.0660 |\n",
       "\n"
      ],
      "text/plain": [
       "   x           y             dob eol error.message exec.time ei           \n",
       "1   34.6286229 -1.300943e+06  0  NA  NA            0.001                NA\n",
       "2  -54.4724652 -2.153054e+07  0  NA  NA            0.000                NA\n",
       "3   -7.7941975  4.454923e+04  0  NA  NA            0.000                NA\n",
       "4   61.9494477 -2.085447e+07  0  NA  NA            0.000                NA\n",
       "5   -6.5673813  4.269659e+04  1  NA  NA            0.000     -1578520.6739\n",
       "6   17.6874048  1.264557e+04  2  NA  NA            0.000     -2355976.3569\n",
       "7   25.7230767 -2.215197e+05  3  NA  NA            0.000      -805701.3964\n",
       "8    6.4068214 -9.877673e+02  4  NA  NA            0.000      -608764.0531\n",
       "9   12.1229605  1.614950e+04  5  NA  NA            0.000      -186706.2602\n",
       "10   0.1028737  9.895276e+03  6  NA  NA            0.000      -145488.7408\n",
       "11 -14.3925315 -3.460265e+04  7  NA  NA            0.000       -61197.8874\n",
       "12 -11.3950903  2.583452e+04  8  NA  NA            0.000       -83347.1626\n",
       "13  -3.2333115  2.770234e+04  9  NA  NA            0.000       -43701.2656\n",
       "14  14.9713261  2.150691e+04 10  NA  NA            0.000       -34856.0670\n",
       "15   3.2600911 -4.978995e+02 11  NA  NA            0.000       -25089.4376\n",
       "16  20.8662355 -3.131519e+04 12  NA  NA            0.000       -20712.4296\n",
       "17   9.3791089  6.535253e+03 13  NA  NA            0.000       -17733.0291\n",
       "18  -9.4275019  4.146637e+04 14  NA  NA            0.001       -12926.4102\n",
       "19  -4.9953525  3.684257e+04 15  NA  NA            0.000       -10745.5193\n",
       "20  -8.5871190  4.397440e+04 16  NA  NA            0.000        -5058.7914\n",
       "21  -1.6671236  1.894848e+04 17  NA  NA            0.000        -4652.9658\n",
       "22 -12.7462991  5.008519e+03 18  NA  NA            0.000        -3523.7381\n",
       "23  13.5942652  2.008676e+04 19  NA  NA            0.000        -2921.1251\n",
       "24  -7.2022823  4.402321e+04 20  NA  NA            0.001        -2769.0281\n",
       "25 -10.2570892  3.671880e+04 21  NA  NA            0.000        -2413.6116\n",
       "26  -5.8372873  4.036490e+04 22  NA  NA            0.000        -2215.2127\n",
       "27  16.3106584  1.953806e+04 23  NA  NA            0.000        -1566.6222\n",
       "28  -8.1800714  4.446718e+04 24  NA  NA            0.000        -1408.4866\n",
       "29  -8.9663034  4.310550e+04 25  NA  NA            0.000         -858.6774\n",
       "   error.model train.time prop.type  propose.time se          mean         \n",
       "1  NA             NA      initdesign    NA                 NA            NA\n",
       "2  NA             NA      initdesign    NA                 NA            NA\n",
       "3  NA             NA      initdesign    NA                 NA            NA\n",
       "4  NA             NA      initdesign    NA                 NA            NA\n",
       "5  NA          0.142      infill_ei  0.250        7423673.674 -3319660.2127\n",
       "6  NA          0.076      infill_ei  0.262        6500813.925  -445103.7743\n",
       "7  NA          0.030      infill_ei  0.281        1685958.337   295837.5301\n",
       "8  NA          0.059      infill_ei  0.264        1526858.373    43820.4759\n",
       "9  NA          0.029      infill_ei  0.265         478477.726    36132.6993\n",
       "10 NA          0.033      infill_ei  0.267         414697.646     2985.3296\n",
       "11 NA          0.034      infill_ei  0.273         801568.230  -793466.6836\n",
       "12 NA          0.055      infill_ei  0.317         154703.814    83846.7073\n",
       "13 NA          0.037      infill_ei  0.279         129987.935    27327.4721\n",
       "14 NA          0.038      infill_ei  0.284         109213.966    25846.6186\n",
       "15 NA          0.034      infill_ei  0.270         110120.027     -333.5905\n",
       "16 NA          0.040      infill_ei  0.273         139181.147   -49515.2439\n",
       "17 NA          0.048      infill_ei  0.330          83460.518     6685.7633\n",
       "18 NA          0.073      infill_ei  0.284          40517.494    37599.3523\n",
       "19 NA          0.042      infill_ei  0.334          35668.257    36935.1366\n",
       "20 NA          0.047      infill_ei  0.348          12949.117    44333.4795\n",
       "21 NA          0.043      infill_ei  0.294          34699.381    18969.0168\n",
       "22 NA          0.037      infill_ei  0.287          32474.319    16704.3942\n",
       "23 NA          0.040      infill_ei  0.344          27814.533    20197.6773\n",
       "24 NA          0.046      infill_ei  0.333           7585.793    44019.9745\n",
       "25 NA          0.053      infill_ei  0.345          13427.710    37022.1050\n",
       "26 NA          0.034      infill_ei  0.426           9927.131    40365.8895\n",
       "27 NA          0.057      infill_ei  0.349          22956.717    19232.8922\n",
       "28 NA          0.054      infill_ei  0.301           3634.602    44465.4408\n",
       "29 NA          0.042      infill_ei  0.292           3676.207    43112.0660"
      ]
     },
     "metadata": {},
     "output_type": "display_data"
    }
   ],
   "source": [
    "tb_resultados"
   ]
  },
  {
   "cell_type": "code",
   "execution_count": 21,
   "metadata": {
    "vscode": {
     "languageId": "r"
    }
   },
   "outputs": [
    {
     "data": {
      "text/html": [
       "<table class=\"dataframe\">\n",
       "<caption>A data.table: 1 × 13</caption>\n",
       "<thead>\n",
       "\t<tr><th scope=col>x</th><th scope=col>y</th><th scope=col>dob</th><th scope=col>eol</th><th scope=col>error.message</th><th scope=col>exec.time</th><th scope=col>ei</th><th scope=col>error.model</th><th scope=col>train.time</th><th scope=col>prop.type</th><th scope=col>propose.time</th><th scope=col>se</th><th scope=col>mean</th></tr>\n",
       "\t<tr><th scope=col>&lt;dbl&gt;</th><th scope=col>&lt;dbl&gt;</th><th scope=col>&lt;int&gt;</th><th scope=col>&lt;int&gt;</th><th scope=col>&lt;chr&gt;</th><th scope=col>&lt;dbl&gt;</th><th scope=col>&lt;dbl&gt;</th><th scope=col>&lt;chr&gt;</th><th scope=col>&lt;dbl&gt;</th><th scope=col>&lt;chr&gt;</th><th scope=col>&lt;dbl&gt;</th><th scope=col>&lt;dbl&gt;</th><th scope=col>&lt;dbl&gt;</th></tr>\n",
       "</thead>\n",
       "<tbody>\n",
       "\t<tr><td>-7.794198</td><td>44549.23</td><td>0</td><td>NA</td><td>NA</td><td>0</td><td>NA</td><td>NA</td><td>NA</td><td>initdesign</td><td>NA</td><td>NA</td><td>NA</td></tr>\n",
       "</tbody>\n",
       "</table>\n"
      ],
      "text/latex": [
       "A data.table: 1 × 13\n",
       "\\begin{tabular}{lllllllllllll}\n",
       " x & y & dob & eol & error.message & exec.time & ei & error.model & train.time & prop.type & propose.time & se & mean\\\\\n",
       " <dbl> & <dbl> & <int> & <int> & <chr> & <dbl> & <dbl> & <chr> & <dbl> & <chr> & <dbl> & <dbl> & <dbl>\\\\\n",
       "\\hline\n",
       "\t -7.794198 & 44549.23 & 0 & NA & NA & 0 & NA & NA & NA & initdesign & NA & NA & NA\\\\\n",
       "\\end{tabular}\n"
      ],
      "text/markdown": [
       "\n",
       "A data.table: 1 × 13\n",
       "\n",
       "| x &lt;dbl&gt; | y &lt;dbl&gt; | dob &lt;int&gt; | eol &lt;int&gt; | error.message &lt;chr&gt; | exec.time &lt;dbl&gt; | ei &lt;dbl&gt; | error.model &lt;chr&gt; | train.time &lt;dbl&gt; | prop.type &lt;chr&gt; | propose.time &lt;dbl&gt; | se &lt;dbl&gt; | mean &lt;dbl&gt; |\n",
       "|---|---|---|---|---|---|---|---|---|---|---|---|---|\n",
       "| -7.794198 | 44549.23 | 0 | NA | NA | 0 | NA | NA | NA | initdesign | NA | NA | NA |\n",
       "\n"
      ],
      "text/plain": [
       "  x         y        dob eol error.message exec.time ei error.model train.time\n",
       "1 -7.794198 44549.23 0   NA  NA            0         NA NA          NA        \n",
       "  prop.type  propose.time se mean\n",
       "1 initdesign NA           NA NA  "
      ]
     },
     "metadata": {},
     "output_type": "display_data"
    }
   ],
   "source": [
    "tb_resultados[ which.max( tb_resultados$y ) ]"
   ]
  },
  {
   "cell_type": "markdown",
   "metadata": {},
   "source": [
    "### Conclusiones"
   ]
  },
  {
   "cell_type": "markdown",
   "metadata": {},
   "source": [
    "La gran pregunta es :  la Optimización Bayesiana, ¿se focaliza luego de muchas iteraciones solo en el entorno del máximo que está cerca de x= -8 ?"
   ]
  }
 ],
 "metadata": {
  "kernelspec": {
   "display_name": "R",
   "language": "R",
   "name": "ir"
  },
  "language_info": {
   "codemirror_mode": "r",
   "file_extension": ".r",
   "mimetype": "text/x-r-source",
   "name": "R",
   "pygments_lexer": "r",
   "version": "4.2.1"
  }
 },
 "nbformat": 4,
 "nbformat_minor": 4
}
